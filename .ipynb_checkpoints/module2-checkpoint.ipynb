{
 "cells": [
  {
   "cell_type": "code",
   "execution_count": null,
   "id": "1cf0b49f",
   "metadata": {},
   "outputs": [],
   "source": [
    "# que:1. python program to check number is positive or negative.\n",
    "num=int(input('enter any number'))\n",
    "if num<=0:\n",
    "    if num==0:\n",
    "        print('it is zero')\n",
    "    else:\n",
    "        print('it is negative')\n",
    "else:\n",
    "    print('it is positive')\n",
    "    "
   ]
  },
  {
   "cell_type": "code",
   "execution_count": null,
   "id": "5acece2b",
   "metadata": {},
   "outputs": [],
   "source": [
    "# que:2. python program to get the factorial number of given number.\n",
    "num=int(input('enter the number'))\n",
    "n=1\n",
    "for i in range(num,0,-1):\n",
    "    n=n*i\n",
    "print(n)\n",
    "     "
   ]
  },
  {
   "cell_type": "code",
   "execution_count": null,
   "id": "3cb0b169",
   "metadata": {},
   "outputs": [],
   "source": [
    "# que:3. python program to find whether the given number is even or odd.\n",
    "num=int(input('enter the number'))\n",
    "if num%2==0:\n",
    "    print(num, 'is even number')\n",
    "else:\n",
    "    print(num, 'is odd number')"
   ]
  },
  {
   "cell_type": "code",
   "execution_count": null,
   "id": "8275d03a",
   "metadata": {},
   "outputs": [],
   "source": [
    "# que:4. python program to find the letter is vowel or not.\n",
    "num=input('enter any letter')\n",
    "if num in ('aeiouAEIOU'):\n",
    "    print(num, 'is vowel letter')\n",
    "else:\n",
    "    print(num, 'is not vowel')"
   ]
  },
  {
   "cell_type": "code",
   "execution_count": null,
   "id": "ad51b6aa",
   "metadata": {},
   "outputs": [],
   "source": [
    "# que:5. Write a Python program to sum of three given integers.However, if two values are equal sum \n",
    "# will be zero.\n",
    "num1=int(input('enter the first number'))\n",
    "num2=int(input('enter the second number')\n",
    "num3=int(input('enter the third number'))\n",
    "if num1==num2 or num1==num3 or num2==num3:\n",
    "    print('zero')\n",
    "else:\n",
    "    sum=num1+num2+num3\n",
    "    print(sum)"
   ]
  },
  {
   "cell_type": "code",
   "execution_count": null,
   "id": "5fddbf43",
   "metadata": {},
   "outputs": [],
   "source": [
    "# que:6. python program that swap two number with temp variable and without temp variable.\n",
    "a=int(input('enter ther number'))\n",
    "b=int(input('enter the number'))\n",
    "if a!=b:\n",
    "    if a>b or a<b:\n",
    "        a=a+b\n",
    "        b=a-b\n",
    "        a=a-b\n",
    "print(a)\n",
    "print(b)"
   ]
  },
  {
   "cell_type": "code",
   "execution_count": 66,
   "id": "66389e43",
   "metadata": {},
   "outputs": [
    {
     "name": "stdout",
     "output_type": "stream",
     "text": [
      "enter the number5\n",
      "enter the number8\n",
      "False\n"
     ]
    }
   ],
   "source": [
    "# que:7. python program that will return true if two given integervalues are equal or their sum or \n",
    "# difference is 5.\n",
    "a=int(input('enter the number'))\n",
    "b=int(input('enter the number'))\n",
    "c=False\n",
    "if a==b or a+b==5 or a-b==5:\n",
    "    c = True\n",
    "    print(c)\n",
    "else:\n",
    "    print(c)\n",
    "    "
   ]
  },
  {
   "cell_type": "code",
   "execution_count": null,
   "id": "26fe9c2a",
   "metadata": {},
   "outputs": [],
   "source": [
    "# que:8. python program to sum of the first n positive integers.\n",
    "num=int(input('enter the number'))\n",
    "m=0\n",
    "for i in range(1,num+1):\n",
    "    m=m+i\n",
    "print(m)"
   ]
  },
  {
   "cell_type": "code",
   "execution_count": null,
   "id": "9aea6db9",
   "metadata": {},
   "outputs": [],
   "source": [
    "# que:9. python program to check whether the number is prime or not.\n",
    "num=int(input('enter the number'))\n",
    "for i in range(2,num+1):\n",
    "    if i<num and num%i==0:\n",
    "        print('not prime')\n",
    "        break\n",
    "    if i==num and num%i==0:\n",
    "        print('prime')\n",
    "        break\n",
    "if num<=1 and num>0:\n",
    "    print('prime') \n",
    "if num==0:\n",
    "    print('whole number')"
   ]
  },
  {
   "cell_type": "code",
   "execution_count": 68,
   "id": "ebb082b6",
   "metadata": {},
   "outputs": [
    {
     "name": "stdout",
     "output_type": "stream",
     "text": [
      "enter the number0\n",
      "0\n"
     ]
    }
   ],
   "source": [
    "# que:10. python program to get the fibonacci seriesif given range.\n",
    "num=int(input('enter the number'))\n",
    "a=0\n",
    "b=1\n",
    "if a==num:\n",
    "    print(a)\n",
    "else:\n",
    "    print(a)\n",
    "    print(b)\n",
    "    for i in range(2,num+1):\n",
    "        c=a+b\n",
    "        a=b\n",
    "        b=c\n",
    "        print(c)\n",
    "    \n",
    "    "
   ]
  },
  {
   "cell_type": "code",
   "execution_count": null,
   "id": "14abceee",
   "metadata": {},
   "outputs": [],
   "source": [
    "# que:11. what is the purpose of continue statement in python?\n",
    "# ans. In python the purpose of continue statement is to leave the current iteration and start next \n",
    "#     iteration or continue from next iteration."
   ]
  },
  {
   "cell_type": "code",
   "execution_count": 39,
   "id": "ce55dda0",
   "metadata": {},
   "outputs": [
    {
     "name": "stdout",
     "output_type": "stream",
     "text": [
      "enter any string.\n",
      "mit\n",
      "m : 1\n",
      "i : 1\n",
      "t : 1\n"
     ]
    }
   ],
   "source": [
    "# que:12. python program to count the number of character (character of frequency) in a string.\n",
    "num=input('enter any string.\\n')\n",
    "for i in num:\n",
    "    if i.isalpha():\n",
    "        s=num.count(i)\n",
    "        print(i, ':',  s)"
   ]
  },
  {
   "cell_type": "code",
   "execution_count": null,
   "id": "bf3f150d",
   "metadata": {},
   "outputs": [],
   "source": [
    "# que:13. python program to calculate the length of the string.\n",
    "string=input('enter the string.' + '\\n')\n",
    "sts=len(string)\n",
    "print('the length of your string is',sts,'.')"
   ]
  },
  {
   "cell_type": "code",
   "execution_count": 38,
   "id": "c667dd82",
   "metadata": {},
   "outputs": [
    {
     "name": "stdout",
     "output_type": "stream",
     "text": [
      "enter the string.\n",
      "mitesh is\n",
      "enter the substring.\n",
      "i\n",
      "2\n"
     ]
    }
   ],
   "source": [
    "# quue:14. python program to count the occurrences of a substring in a string.\n",
    "num=input('enter the string.\\n')\n",
    "cw=input('enter the substring.\\n')\n",
    "ans=num.count(cw)\n",
    "print(ans)"
   ]
  },
  {
   "cell_type": "code",
   "execution_count": null,
   "id": "581c98f2",
   "metadata": {},
   "outputs": [],
   "source": [
    "# que:15. What are negative indexes and why are they used?\n",
    "# ans. Negative Indexing is to begin slicing from the end of the string. Slicing in Python gets \n",
    "# a sub-string from a string. It is generally used to find the index value of a character or element.\n",
    "# For the last element/ character it starts from -1."
   ]
  },
  {
   "cell_type": "code",
   "execution_count": 40,
   "id": "8cb13192",
   "metadata": {},
   "outputs": [
    {
     "name": "stdout",
     "output_type": "stream",
     "text": [
      "enter any string.\n",
      "mit is a boy\n",
      "mit : 1\n",
      "is : 1\n",
      "a : 1\n",
      "boy : 1\n"
     ]
    }
   ],
   "source": [
    "# que:16. python program to count the occurrences of each word in a given string. \n",
    "num=input('enter any string.\\n')\n",
    "spl=num.split()\n",
    "for i in spl:\n",
    "    sts=num.count(i)\n",
    "    sts1=i\n",
    "    print(sts1,':',sts)"
   ]
  },
  {
   "cell_type": "code",
   "execution_count": 100,
   "id": "b404cf39",
   "metadata": {},
   "outputs": [
    {
     "name": "stdout",
     "output_type": "stream",
     "text": [
      "enter the first string.\n",
      "1.mitesh\n",
      "enter the second string.\n",
      "2.rahul\n",
      "answer:-\n",
      "ratesh mihul\n"
     ]
    }
   ],
   "source": [
    "# que:17. Write a Python program to get a single string from two given strings,separated by a space \n",
    "# and swap the first two characters of each string.\n",
    "l1=input('enter the first string.\\n1.')\n",
    "l2=input('enter the second string.\\n2.')\n",
    "str1=l1[0:2]\n",
    "str2=l2[0:2]\n",
    "ans=l1.replace(str1,str2)\n",
    "ans1=l2.replace(str2,str1)\n",
    "ans2=f'{ans} {ans1}'\n",
    "print('answer:-\\n'+ans2)"
   ]
  },
  {
   "cell_type": "code",
   "execution_count": 45,
   "id": "6e08ad1c",
   "metadata": {},
   "outputs": [
    {
     "name": "stdout",
     "output_type": "stream",
     "text": [
      "enter the string\n",
      "reading\n",
      "readly\n"
     ]
    }
   ],
   "source": [
    "#que:18. Write a Python program to add 'ing' at the end of a given string (length should be at\n",
    "# least 3). If the given string already ends with 'ing' then add 'ly' instead. if the string \n",
    "# length of the given string is less than 3, leave it unchanged.\n",
    "str1=input('enter the string\\n') \n",
    "i='ing' \n",
    "w=str1.endswith('ing') \n",
    "if len(str1)>=3 and str1.endswith('ing'):\n",
    "    str3=str1.replace('ing','ly')\n",
    "    print(str3) \n",
    "elif len(str1)>=3 and str1!=w:\n",
    "    str2=f'{str1}{i}' \n",
    "    print(str2) \n",
    "if len(str1)<3:\n",
    "    print(str1)"
   ]
  },
  {
   "cell_type": "code",
   "execution_count": 104,
   "id": "01194776",
   "metadata": {},
   "outputs": [
    {
     "name": "stdout",
     "output_type": "stream",
     "text": [
      "enter the string.\n",
      "he is not rich but poor poor poor raj\n",
      "he is good raj\n"
     ]
    }
   ],
   "source": [
    "#que:19. Write a Python program to find the first appearance of the substring 'not'and 'poor' from a \n",
    "# given string, if 'not' follows the 'poor', replace the whole 'not'...'poor'substring with 'good'. \n",
    "# Return the resulting string.\n",
    "sts=input('enter the string.\\n')\n",
    "a=sts.index('not')\n",
    "a1=sts.rindex('poor')\n",
    "b=a1+4\n",
    "l=sts[a:b]\n",
    "a2=sts.replace(l,'good')\n",
    "if a<a1:\n",
    "    print(a2)\n"
   ]
  },
  {
   "cell_type": "code",
   "execution_count": 10,
   "id": "e9e43539",
   "metadata": {},
   "outputs": [
    {
     "name": "stdout",
     "output_type": "stream",
     "text": [
      "enter the list of few word.\n",
      "mit raju nim mitesh rajendra mit kal\n",
      "['mit', 'raju', 'nim', 'mitesh', 'rajendra', 'mit', 'kal']\n",
      "rajendra : 8\n"
     ]
    }
   ],
   "source": [
    "# que:20. Write a Python function that takes a list of words and returns the length\n",
    "# of the longest one.\n",
    "l=input('enter the list of few word.\\n')\n",
    "l1=l.split()\n",
    "l2=0\n",
    "l3=0\n",
    "print(l1)\n",
    "for i in l1:\n",
    "    if len(i)>l2:\n",
    "        l2=len(i)\n",
    "        name=i\n",
    "    else:\n",
    "        if len(i)<l2:\n",
    "            l3=len(i)\n",
    "print(name,':',l2)"
   ]
  },
  {
   "cell_type": "code",
   "execution_count": 86,
   "id": "182c17e0",
   "metadata": {},
   "outputs": [
    {
     "name": "stdout",
     "output_type": "stream",
     "text": [
      "enter the word.\n",
      "miteshji\n",
      "ijhsetim\n"
     ]
    }
   ],
   "source": [
    "# que:21 Write a Python function to reverses a string if its length is a multiple of 4.\n",
    "st1=input('enter the word.\\n')\n",
    "st2=len(st1)\n",
    "if st2%4==0:\n",
    "    print(st1[::-1])"
   ]
  },
  {
   "cell_type": "code",
   "execution_count": 108,
   "id": "01b1146f",
   "metadata": {},
   "outputs": [
    {
     "name": "stdout",
     "output_type": "stream",
     "text": [
      "enter the string.\n",
      "mitesh\n",
      "mish\n"
     ]
    }
   ],
   "source": [
    "#que:22. Write a Python program to get a string made of the first 2 and the last 2chars from a given\n",
    "# a string.Ifthe string length islessthan 2,return instead of the empty string.\n",
    "sta=input('enter the string.\\n')\n",
    "len1=len(sta)\n",
    "ch1=sta[0:2]\n",
    "ch2=sta[-2::]\n",
    "if len1<2:\n",
    "    print('empty string.')\n",
    "elif len1<3 and len1>1:\n",
    "    print(sta)\n",
    "elif len1>=3:\n",
    "    print(ch1,ch2,sep='')"
   ]
  },
  {
   "cell_type": "code",
   "execution_count": 96,
   "id": "cf6c6d9e",
   "metadata": {},
   "outputs": [
    {
     "name": "stdout",
     "output_type": "stream",
     "text": [
      "enter the first string.\n",
      "mitesh\n",
      "enter the second string.\n",
      "ramesh\n",
      "mit ramesh esh\n"
     ]
    }
   ],
   "source": [
    "# que:23. write a Python function to insert a string in the middle of a string.\n",
    "sts=input('enter the first string.\\n')\n",
    "sts1=input('enter the second string.\\n')\n",
    "ans=len(sts)//2\n",
    "ans1=sts[:ans:]\n",
    "ans2=sts[ans::]\n",
    "if ans%2==0:\n",
    "    ans3=f'{ans1}{sts1}{ans2}'\n",
    "    print(ans3)\n",
    "elif ans%2!=0:\n",
    "    print(ans1,sts1,ans2,sep=' ')"
   ]
  }
 ],
 "metadata": {
  "kernelspec": {
   "display_name": "Python 3 (ipykernel)",
   "language": "python",
   "name": "python3"
  },
  "language_info": {
   "codemirror_mode": {
    "name": "ipython",
    "version": 3
   },
   "file_extension": ".py",
   "mimetype": "text/x-python",
   "name": "python",
   "nbconvert_exporter": "python",
   "pygments_lexer": "ipython3",
   "version": "3.9.12"
  }
 },
 "nbformat": 4,
 "nbformat_minor": 5
}
